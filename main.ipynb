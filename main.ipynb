{
 "cells": [
  {
   "cell_type": "code",
   "execution_count": 1,
   "metadata": {},
   "outputs": [],
   "source": [
    "import random\n",
    "import numpy as np\n",
    "import pandas as pd\n",
    "import matplotlib.pyplot as plt\n",
    "from time import time"
   ]
  },
  {
   "cell_type": "code",
   "execution_count": 3,
   "metadata": {},
   "outputs": [],
   "source": [
    "from scipy.stats import uniform"
   ]
  },
  {
   "cell_type": "markdown",
   "metadata": {},
   "source": [
    "## numerical algorithms"
   ]
  },
  {
   "cell_type": "markdown",
   "metadata": {},
   "source": [
    "- gause sidel\n",
    "- red black GS\n",
    "- Newtons Method\n"
   ]
  },
  {
   "cell_type": "code",
   "execution_count": 3,
   "metadata": {},
   "outputs": [],
   "source": [
    "np.arange(1,10,2)\n",
    "A = np.array([[16,3],[7,-11]])\n",
    "b = np.array([11,13])"
   ]
  },
  {
   "cell_type": "code",
   "execution_count": 10,
   "metadata": {},
   "outputs": [
    {
     "data": {
      "text/plain": [
       "-11"
      ]
     },
     "execution_count": 10,
     "metadata": {},
     "output_type": "execute_result"
    }
   ],
   "source": [
    "A[1][1]"
   ]
  },
  {
   "cell_type": "code",
   "execution_count": 1,
   "metadata": {},
   "outputs": [],
   "source": [
    "# jacobian\n",
    "def jaco(v,f,h):\n",
    "    v = (f(v+h) - f(v-h))/(2*h)"
   ]
  },
  {
   "cell_type": "code",
   "execution_count": 2,
   "metadata": {},
   "outputs": [],
   "source": [
    "def FAS(v,f,A):\n",
    "    r = f-A(v)\n",
    "    \n",
    "    r2 = restriction(r)\n",
    "    v2 = restriction(v)\n",
    "    \n",
    "    f2 = A(v2)\n",
    "    \n",
    "    u2 = NewtonsMethod(f2 + r2, A)\n",
    "    \n",
    "    e2 = u2 - v2\n",
    "    i = interpolate(e2)\n",
    "    v = v + i"
   ]
  },
  {
   "cell_type": "code",
   "execution_count": 3,
   "metadata": {},
   "outputs": [
    {
     "ename": "SyntaxError",
     "evalue": "invalid syntax (3573050209.py, line 4)",
     "output_type": "error",
     "traceback": [
      "\u001b[1;36m  Input \u001b[1;32mIn [3]\u001b[1;36m\u001b[0m\n\u001b[1;33m    for i = 2:2:n-1:\u001b[0m\n\u001b[1;37m          ^\u001b[0m\n\u001b[1;31mSyntaxError\u001b[0m\u001b[1;31m:\u001b[0m invalid syntax\n"
     ]
    }
   ],
   "source": [
    "def gs_rb(v, stencil, v0, v1, f):\n",
    "\n",
    "    n = length(f)-1\n",
    "    for i = 2:2:n-1:\n",
    "        v(i) = (f(i)-stencil(1)*v(i-1)-stencil(3)*v(i+1))/stencil(2)\n",
    "\n",
    "    v(1) = (f(1)-stencil(1)*v0-stencil(3)*v(2))/stencil(2)\n",
    "    \n",
    "    for i = 3:2:n-1:\n",
    "        v(i) = (f(i)-stencil(1)*v(i-1)-stencil(3)*v(i+1))/stencil(2)\n",
    "\n",
    "    v(n) = (f(n)-stencil(1)*v(n-1)-stencil(3)*v1)/stencil(2)\n",
    "\n",
    "    return v"
   ]
  },
  {
   "cell_type": "code",
   "execution_count": 4,
   "metadata": {},
   "outputs": [],
   "source": [
    "# gaus sidel\n",
    "# rb gaus sidel\n",
    "# QR decomp\n",
    "# eig decomp\n",
    "# svd decomp\n",
    "# integration aprox\n",
    "# more aproxx"
   ]
  },
  {
   "cell_type": "code",
   "execution_count": 5,
   "metadata": {},
   "outputs": [
    {
     "ename": "IndentationError",
     "evalue": "unexpected indent (2995872400.py, line 2)",
     "output_type": "error",
     "traceback": [
      "\u001b[1;36m  Input \u001b[1;32mIn [5]\u001b[1;36m\u001b[0m\n\u001b[1;33m    b = upperLimit;\u001b[0m\n\u001b[1;37m    ^\u001b[0m\n\u001b[1;31mIndentationError\u001b[0m\u001b[1;31m:\u001b[0m unexpected indent\n"
     ]
    }
   ],
   "source": [
    "function [y] = gaussQuad1d(fn,lowerLimit,upperLimit, noOfIntegPt)\n",
    " b = upperLimit; \n",
    " a = lowerLimit;\n",
    " g = @(x)(fn(b +(b-a)*(x-1)/2));\n",
    " y = ((b-a)/2)*gaussQuadStd1d(g,noOfIntegPt);\n",
    "\n",
    "end\n"
   ]
  },
  {
   "cell_type": "code",
   "execution_count": null,
   "metadata": {},
   "outputs": [],
   "source": [
    "function [y] =  keij(a, c, e, i, j, xh, shapeFn, noOfIntegPt)\n",
    "  x1 = xh(e);\n",
    "  x2 = xh(e+1);\n",
    "  \n",
    "  fn = @(x)(a(x)*shapeFnDer1d(i,x,x1,x2,shapeFn)*shapeFnDer1d(j,x,x1,x2,shapeFn) + c(x)*shapeFn1d(i,x,x1,x2,shapeFn)*shapeFn1d(j,x,x1,x2,shapeFn));\n",
    "  \n",
    "  y = gaussQuad1d(fn,x1,x2, noOfIntegPt);\n",
    "  \n",
    "end"
   ]
  }
 ],
 "metadata": {
  "kernelspec": {
   "display_name": "Python 3.10.4 64-bit",
   "language": "python",
   "name": "python3"
  },
  "language_info": {
   "codemirror_mode": {
    "name": "ipython",
    "version": 3
   },
   "file_extension": ".py",
   "mimetype": "text/x-python",
   "name": "python",
   "nbconvert_exporter": "python",
   "pygments_lexer": "ipython3",
   "version": "3.10.4"
  },
  "orig_nbformat": 4,
  "vscode": {
   "interpreter": {
    "hash": "369f2c481f4da34e4445cda3fffd2e751bd1c4d706f27375911949ba6bb62e1c"
   }
  }
 },
 "nbformat": 4,
 "nbformat_minor": 2
}
