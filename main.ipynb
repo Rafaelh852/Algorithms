{
 "cells": [
  {
   "cell_type": "code",
   "execution_count": 1,
   "metadata": {},
   "outputs": [],
   "source": [
    "import random\n",
    "import numpy as np\n",
    "import pandas as pd\n",
    "import matplotlib.pyplot as plt\n",
    "from time import time"
   ]
  },
  {
   "cell_type": "markdown",
   "metadata": {},
   "source": [
    "Data structures\n",
    "\n",
    "\n",
    "numerical algorithms\n",
    "    - gaussian quadritute\n",
    "    - interpolation\n",
    "    - SVD\n",
    "    - Least squares through QR\n",
    "    - LU decomposition\n",
    "    - finite element methods\n",
    "    - multigrid methods\n",
    " \n",
    "machine learning algorithms\n",
    "    \n",
    "statistical computing\n",
    "\n",
    "optimizaiton\n",
    "    - convex optimization \n",
    "        -gradient descent\n",
    "        -stochastic graident descent\n",
    "        -linear programming\n",
    "\n",
    "    - evolutionary algorithms\n",
    "        -NSGA II algorithm"
   ]
  },
  {
   "cell_type": "code",
   "execution_count": 30,
   "metadata": {},
   "outputs": [
    {
     "name": "stdout",
     "output_type": "stream",
     "text": [
      "payment 29102.82 total 160811.48\n"
     ]
    }
   ],
   "source": [
    "p = np.poly1d(np.ones(5))\n",
    "s = 120000\n",
    "alpha = 1.05\n",
    "\n",
    "total = s*(alpha**6)\n",
    "\n",
    "payment = total/p(alpha)\n",
    "print(\"payment {}\".format(payment.round(2)),\"total {}\".format(np.float64(total).round(2)))"
   ]
  },
  {
   "cell_type": "code",
   "execution_count": 24,
   "metadata": {},
   "outputs": [
    {
     "data": {
      "text/plain": [
       "29103.0"
      ]
     },
     "execution_count": 24,
     "metadata": {},
     "output_type": "execute_result"
    }
   ],
   "source": [
    "payment.round(2)"
   ]
  },
  {
   "cell_type": "code",
   "execution_count": 3,
   "metadata": {},
   "outputs": [],
   "source": [
    "# finds the min in the range and returns the key, value\n",
    "def minr(arr = None):\n",
    "    \n",
    "    if arr is None:\n",
    "        arr = [0]\n",
    "\n",
    "    \n",
    "\n",
    "    key, value = (arr[0],0)\n",
    "    return key,value"
   ]
  },
  {
   "cell_type": "code",
   "execution_count": 17,
   "metadata": {},
   "outputs": [
    {
     "name": "stdout",
     "output_type": "stream",
     "text": [
      "0 [2, 1, 3]\n",
      "1 [6, 5, 4]\n",
      "2 [7, 8, 9]\n"
     ]
    }
   ],
   "source": [
    "A = [[2,1,3],[6,5,4],[7,8,9]]\n",
    "s = []\n",
    "for m,a in enumerate(A):\n",
    "    for n,b in enumerate(a):\n",
    "        \n",
    "\n"
   ]
  },
  {
   "cell_type": "code",
   "execution_count": 25,
   "metadata": {},
   "outputs": [],
   "source": [
    "arr = [11,22,33]\n",
    "jay = {arr[i]:i for i in range(len(arr)) }"
   ]
  },
  {
   "cell_type": "code",
   "execution_count": 30,
   "metadata": {},
   "outputs": [
    {
     "name": "stdout",
     "output_type": "stream",
     "text": [
      "0 11\n",
      "1 22\n",
      "2 33\n"
     ]
    }
   ],
   "source": [
    "for k,v in enumerate(arr):\n",
    "    print(k,v)"
   ]
  },
  {
   "cell_type": "code",
   "execution_count": 28,
   "metadata": {},
   "outputs": [
    {
     "data": {
      "text/plain": [
       "0"
      ]
     },
     "execution_count": 28,
     "metadata": {},
     "output_type": "execute_result"
    }
   ],
   "source": [
    "mini = ({arr[i]:i for i in range(len(arr))}[min(arr)],min(arr))"
   ]
  },
  {
   "cell_type": "code",
   "execution_count": 31,
   "metadata": {},
   "outputs": [],
   "source": [
    "def minarr(arr = None):\n",
    "    if arr is None:\n",
    "        arr = [0]\n",
    "    \n",
    "    min_value = min(arr)\n",
    "\n",
    "    min_index = {value: key for key,value in enumerate(arr)}[min_value]\n",
    "    \n",
    "    return (min_index,min_value)\n",
    "\n"
   ]
  },
  {
   "cell_type": "code",
   "execution_count": 32,
   "metadata": {},
   "outputs": [
    {
     "data": {
      "text/plain": [
       "(0, 11)"
      ]
     },
     "execution_count": 32,
     "metadata": {},
     "output_type": "execute_result"
    }
   ],
   "source": [
    "minarr(arr)"
   ]
  },
  {
   "cell_type": "code",
   "execution_count": 56,
   "metadata": {},
   "outputs": [
    {
     "name": "stdout",
     "output_type": "stream",
     "text": [
      "[100, -42, -46, -41]\n",
      "0 100\n",
      "[31, 97, 10, -10]\n",
      "0 31\n",
      "[-58, -51, 82, 89]\n",
      "0 -58\n",
      "[51, 81, 69, -51]\n",
      "0 51\n",
      "124\n"
     ]
    }
   ],
   "source": [
    "A = [[100,-42,-46,-41],[31,97,10,-10],[-58,-51,82,89],[51,81,69,-51]]\n",
    "def minarr(arr = None):\n",
    "    if arr is None:\n",
    "        arr = [0]\n",
    "    \n",
    "    min_value = min(arr)\n",
    "\n",
    "    min_index = {value: key for key,value in enumerate(arr)}[min_value]\n",
    "    \n",
    "    return (min_index,min_value)\n",
    "s = 0\n",
    "i = 0\n",
    "n = len(A)\n",
    "\n",
    "#i,a = minarr(A[0])\n",
    "#s += a\n",
    "\n",
    "for arr in A:\n",
    "    print(arr)\n",
    "    if i == 0:\n",
    "       i, a = minarr(arr[i:i+1])\n",
    "    if i > 0 and n > i: \n",
    "        i, a = minarr(arr[i-1:i+1])\n",
    "    if i  ==  n:\n",
    "        i, a = minarr(arr[i-1:i-1])\n",
    "    print(i,a)\n",
    "    s += a\n",
    "print(s)"
   ]
  },
  {
   "cell_type": "code",
   "execution_count": 46,
   "metadata": {},
   "outputs": [
    {
     "data": {
      "text/plain": [
       "3"
      ]
     },
     "execution_count": 46,
     "metadata": {},
     "output_type": "execute_result"
    }
   ],
   "source": [
    "n"
   ]
  },
  {
   "cell_type": "code",
   "execution_count": null,
   "metadata": {},
   "outputs": [],
   "source": []
  }
 ],
 "metadata": {
  "kernelspec": {
   "display_name": "Python 3.10.4 64-bit",
   "language": "python",
   "name": "python3"
  },
  "language_info": {
   "codemirror_mode": {
    "name": "ipython",
    "version": 3
   },
   "file_extension": ".py",
   "mimetype": "text/x-python",
   "name": "python",
   "nbconvert_exporter": "python",
   "pygments_lexer": "ipython3",
   "version": "3.10.4"
  },
  "orig_nbformat": 4,
  "vscode": {
   "interpreter": {
    "hash": "369f2c481f4da34e4445cda3fffd2e751bd1c4d706f27375911949ba6bb62e1c"
   }
  }
 },
 "nbformat": 4,
 "nbformat_minor": 2
}
