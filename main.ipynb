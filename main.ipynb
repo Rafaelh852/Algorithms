{
 "cells": [
  {
   "cell_type": "code",
   "execution_count": 1,
   "metadata": {},
   "outputs": [],
   "source": [
    "import random\n",
    "import numpy as np\n",
    "import pandas as pd\n",
    "import matplotlib.pyplot as plt\n",
    "from time import time"
   ]
  },
  {
   "cell_type": "markdown",
   "metadata": {},
   "source": [
    "Data structures\n",
    "\n",
    "\n",
    "numerical algorithms\n",
    "    - gaussian quadritute\n",
    "    - interpolation\n",
    "    - SVD\n",
    "    - Least squares through QR\n",
    "    - LU decomposition\n",
    "    - finite element methods\n",
    "    - multigrid methods\n",
    " \n",
    "machine learning algorithms\n",
    "    \n",
    "statistical computing\n",
    "\n",
    "optimizaiton\n",
    "    - convex optimization \n",
    "        -gradient descent\n",
    "        -stochastic graident descent\n",
    "        -linear programming\n",
    "\n",
    "    - evolutionary algorithms\n",
    "        -NSGA II algorithm"
   ]
  },
  {
   "cell_type": "code",
   "execution_count": 10,
   "metadata": {},
   "outputs": [
    {
     "data": {
      "text/plain": [
       "-11"
      ]
     },
     "execution_count": 10,
     "metadata": {},
     "output_type": "execute_result"
    }
   ],
   "source": []
  }
 ],
 "metadata": {
  "kernelspec": {
   "display_name": "Python 3.10.4 64-bit",
   "language": "python",
   "name": "python3"
  },
  "language_info": {
   "codemirror_mode": {
    "name": "ipython",
    "version": 3
   },
   "file_extension": ".py",
   "mimetype": "text/x-python",
   "name": "python",
   "nbconvert_exporter": "python",
   "pygments_lexer": "ipython3",
   "version": "3.10.4"
  },
  "orig_nbformat": 4,
  "vscode": {
   "interpreter": {
    "hash": "369f2c481f4da34e4445cda3fffd2e751bd1c4d706f27375911949ba6bb62e1c"
   }
  }
 },
 "nbformat": 4,
 "nbformat_minor": 2
}
