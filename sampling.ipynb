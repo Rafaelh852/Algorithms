{
 "cells": [
  {
   "cell_type": "markdown",
   "metadata": {},
   "source": [
    "# Sampling\n",
    "\n",
    "This is a collection of sampling algorithms implemented in python.\n",
    "\n",
    "Some notation has been adopted to make things simpler."
   ]
  },
  {
   "cell_type": "code",
   "execution_count": 1,
   "metadata": {},
   "outputs": [],
   "source": [
    "from random import Random\n",
    "import numpy as np\n",
    "import pandas as pd\n",
    "import matplotlib.pyplot as plt"
   ]
  },
  {
   "cell_type": "markdown",
   "metadata": {},
   "source": [
    "The following is a list of distributions we will attempt to sample from\n",
    "\n",
    "|Distributions| $$ f(x) $$|\n",
    "|--- | ---- |\n",
    "Beta | \n",
    "Binomial |\n",
    "Chi square |  \n",
    "exponential | \n",
    "gamma norma univariate | \n",
    "normal multivariate | \n",
    "poisson | \n",
    "continuous uniform | |\n",
    "weibull | "
   ]
  },
  {
   "cell_type": "code",
   "execution_count": null,
   "metadata": {},
   "outputs": [],
   "source": []
  },
  {
   "cell_type": "markdown",
   "metadata": {},
   "source": [
    "Law of large numbers\n",
    "\n",
    "Markov monte carlo(simulation)\n",
    "\n",
    "Bootstrapping\n",
    "\n",
    "Cross validation\n",
    "\n",
    "simulation from posit model\n",
    "\n",
    "\n",
    "stratification and random sampling\n",
    "\n",
    "chips sampling for live\n",
    "\n",
    "conditional sampling? like binning or buckets"
   ]
  },
  {
   "cell_type": "markdown",
   "metadata": {},
   "source": [
    "splitting the data with LDA"
   ]
  },
  {
   "cell_type": "markdown",
   "metadata": {},
   "source": []
  }
 ],
 "metadata": {
  "kernelspec": {
   "display_name": "Python 3.10.4 64-bit",
   "language": "python",
   "name": "python3"
  },
  "language_info": {
   "codemirror_mode": {
    "name": "ipython",
    "version": 3
   },
   "file_extension": ".py",
   "mimetype": "text/x-python",
   "name": "python",
   "nbconvert_exporter": "python",
   "pygments_lexer": "ipython3",
   "version": "3.10.4"
  },
  "orig_nbformat": 4,
  "vscode": {
   "interpreter": {
    "hash": "369f2c481f4da34e4445cda3fffd2e751bd1c4d706f27375911949ba6bb62e1c"
   }
  }
 },
 "nbformat": 4,
 "nbformat_minor": 2
}
